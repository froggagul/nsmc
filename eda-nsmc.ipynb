{
  "nbformat": 4,
  "nbformat_minor": 0,
  "metadata": {
    "colab": {
      "name": "EDA.ipynb",
      "provenance": [],
      "authorship_tag": "ABX9TyPJwQMy/uLJois6mN79Wk2s",
      "include_colab_link": true
    },
    "kernelspec": {
      "name": "python3",
      "display_name": "Python 3"
    },
    "language_info": {
      "name": "python"
    }
  },
  "cells": [
    {
      "cell_type": "markdown",
      "metadata": {
        "id": "view-in-github",
        "colab_type": "text"
      },
      "source": [
        "<a href=\"https://colab.research.google.com/github/froggagul/nsmc/blob/master/eda-nsmc.ipynb\" target=\"_parent\"><img src=\"https://colab.research.google.com/assets/colab-badge.svg\" alt=\"Open In Colab\"/></a>"
      ]
    },
    {
      "cell_type": "code",
      "metadata": {
        "id": "ncIlFnoJA-tI"
      },
      "source": [
        "import requests\n",
        "import pandas as pd"
      ],
      "execution_count": 2,
      "outputs": []
    },
    {
      "cell_type": "code",
      "metadata": {
        "colab": {
          "base_uri": "https://localhost:8080/"
        },
        "id": "Bt1VHQfCBG4l",
        "outputId": "a40cd38d-757b-404e-f8b3-cf28fe6f06b3"
      },
      "source": [
        "f_train = requests.get('https://raw.githubusercontent.com/e9t/nsmc/master/ratings_train.txt')\n",
        "f_test = requests.get('https://raw.githubusercontent.com/e9t/nsmc/master/ratings_test.txt')\n",
        "\n",
        "open('train.txt', 'wb').write(f_train.content)\n",
        "open('test.txt', 'wb').write(f_test.content)"
      ],
      "execution_count": 3,
      "outputs": [
        {
          "output_type": "execute_result",
          "data": {
            "text/plain": [
              "4893335"
            ]
          },
          "metadata": {},
          "execution_count": 3
        }
      ]
    },
    {
      "cell_type": "code",
      "metadata": {
        "id": "iI7esbyUBKlw"
      },
      "source": [
        "train_df = pd.read_csv('train.txt', sep='\\t')\n",
        "test_df = pd.read_csv('test.txt', sep='\\t')"
      ],
      "execution_count": 4,
      "outputs": []
    },
    {
      "cell_type": "code",
      "metadata": {
        "colab": {
          "base_uri": "https://localhost:8080/"
        },
        "id": "l9Opp0Q3BSds",
        "outputId": "73832417-4cd4-4030-ba8c-2e6bc0863a38"
      },
      "source": [
        "train_df['label'].value_counts()"
      ],
      "execution_count": 5,
      "outputs": [
        {
          "output_type": "execute_result",
          "data": {
            "text/plain": [
              "0    75173\n",
              "1    74827\n",
              "Name: label, dtype: int64"
            ]
          },
          "metadata": {},
          "execution_count": 5
        }
      ]
    },
    {
      "cell_type": "code",
      "metadata": {
        "colab": {
          "base_uri": "https://localhost:8080/"
        },
        "id": "Z1Ni8AzXBYMU",
        "outputId": "5b5e6173-0a84-4995-b2d6-c76f9345867a"
      },
      "source": [
        "train_df['document'].value_counts()"
      ],
      "execution_count": 7,
      "outputs": [
        {
          "output_type": "execute_result",
          "data": {
            "text/plain": [
              "굿                                                 181\n",
              "good                                               92\n",
              "최고                                                 85\n",
              "쓰레기                                                79\n",
              "별로                                                 66\n",
              "                                                 ... \n",
              "....이게 재밌다구요?...하하..                                1\n",
              "진짜 알바가 있나.. 엄청 재밌지않네요                               1\n",
              "잘 알지 못하고 그냥 지나쳤던 야스쿠니 신사에 대해 생각하게끔 해 준 최고의 영화!      1\n",
              "더이상 이런 억지스런 감동을 주려하는 영화에 놀아나진 않는다                   1\n",
              "갈 곳을 잃은 자신들만의 룸바                                    1\n",
              "Name: document, Length: 146182, dtype: int64"
            ]
          },
          "metadata": {},
          "execution_count": 7
        }
      ]
    },
    {
      "cell_type": "code",
      "metadata": {
        "colab": {
          "base_uri": "https://localhost:8080/"
        },
        "id": "wh-zsomSB69O",
        "outputId": "defcc68a-00cf-4a05-db30-9981d778defa"
      },
      "source": [
        "train_df['document'].str.replace(\"[^ㄱ-ㅎㅏ-ㅣ가-힣 a-zA-Z0-9]\",\"\")"
      ],
      "execution_count": 8,
      "outputs": [
        {
          "output_type": "execute_result",
          "data": {
            "text/plain": [
              "0                                         아 더빙 진짜 짜증나네요 목소리\n",
              "1                                흠포스터보고 초딩영화줄오버연기조차 가볍지 않구나\n",
              "2                                         너무재밓었다그래서보는것을추천한다\n",
              "3                                 교도소 이야기구먼 솔직히 재미는 없다평점 조정\n",
              "4         사이몬페그의 익살스런 연기가 돋보였던 영화스파이더맨에서 늙어보이기만 했던 커스틴 던...\n",
              "                                ...                        \n",
              "149995                                      인간이 문제지 소는 뭔죄인가\n",
              "149996                                           평점이 너무 낮아서\n",
              "149997                        이게 뭐요 한국인은 거들먹거리고 필리핀 혼혈은 착하다\n",
              "149998                           청춘 영화의 최고봉방황과 우울했던 날들의 자화상\n",
              "149999                             한국 영화 최초로 수간하는 내용이 담긴 영화\n",
              "Name: document, Length: 150000, dtype: object"
            ]
          },
          "metadata": {},
          "execution_count": 8
        }
      ]
    },
    {
      "cell_type": "code",
      "metadata": {
        "id": "RWOUPUWmEYaJ"
      },
      "source": [
        ""
      ],
      "execution_count": null,
      "outputs": []
    }
  ]
}